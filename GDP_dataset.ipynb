

# Evaluate the GDP Dataset



* * *

#### 1: View and add the dataset


```python
#Import required library
import numpy as np
import pandas as pd

```


```python
#Manually add the dataset
countries = np.array(['Algeria','Angola','Argentina','Australia','Austria','Bahamas','Bangladesh','Belarus','Belgium',
                      'Bhutan','Brazil','Bulgaria','Cambodia','Cameroon','Chile','China','Colombia','Cyprus',
                      'Denmark','El Salvador','Estonia','Ethiopia','Fiji','Finland','France','Georgia','Ghana',
                      'Grenada','Guinea','Haiti','Honduras','Hungary','India','Indonesia','Ireland','Italy',
                      'Japan','Kenya', 'South Korea','Liberia','Malaysia','Mexico', 'Morocco','Nepal','New Zealand',
                      'Norway','Pakistan', 'Peru','Qatar','Russia','Singapore','South Africa','Spain','Sweden',
                      'Switzerland','Thailand','United Arab Emirates','United Kingdom','United States','Uruguay','Venezuela','Vietnam','Zimbabwe'])
```

#### 2: Find and print the name of the country with the highest GDP


```python
#Use the argmax() method to find the highest GDP
gdp_data = np.array([2255.225482,629.9553062,11601.63022,25306.82494,27266.40335,19466.99052,588.3691778,2890.345675,24733.62696,
                     1445.760002,4803.398244,2618.876037,590.4521124,665.7982328,7122.938458,2639.54156,3362.4656,15378.16704,
                     30860.12808,2579.115607,6525.541272,229.6769525,2242.689259,27570.4852,23016.84778,1334.646773,402.6953275,
                     6047.200797,394.1156638,385.5793827,1414.072488,5745.981529,837.7464011,1206.991065,27715.52837,18937.24998,
                     39578.07441,478.2194906,16684.21278,279.2204061,5345.213415,6288.25324,1908.304416,274.8728621,14646.42094,
                     40034.85063,672.1547506,3359.517402,36152.66676,3054.727742,33529.83052,3825.093781,15428.32098,
                     33630.24604,39170.41371,2699.123242,21058.43643,28272.40661,37691.02733,9581.05659,5671.912202,757.4009286,
                     347.7456605])

max_gdp_per_capita = gdp_data.argmax()

```


```python
#Print the name of the country
country_with_max_gdp_per_capita = countries[max_gdp_per_capita]
country_with_max_gdp_per_capita

```




    'Norway'



#### 3: Find and print the name of the country with the lowest GDP


```python
#Use the argmin() method to find the lowest GDP
min_gdp_per_capita = gdp_data.argmin()
```


```python
#Print the name of the country
country_with_min_gdp_per_capita = countries[min_gdp_per_capita]
country_with_min_gdp_per_capita
```




    'Ethiopia'



#### 4: Print out text ('evaluating country') and input value ('country name') iteratively


```python
#Use a for loop to print the required output
for country in countries:
    print(f'evaluating country {country}')

```

    evaluating country Algeria
    evaluating country Angola
    evaluating country Argentina
    evaluating country Australia
    evaluating country Austria
    evaluating country Bahamas
    evaluating country Bangladesh
    evaluating country Belarus
    evaluating country Belgium
    evaluating country Bhutan
    evaluating country Brazil
    evaluating country Bulgaria
    evaluating country Cambodia
    evaluating country Cameroon
    evaluating country Chile
    evaluating country China
    evaluating country Colombia
    evaluating country Cyprus
    evaluating country Denmark
    evaluating country El Salvador
    evaluating country Estonia
    evaluating country Ethiopia
    evaluating country Fiji
    evaluating country Finland
    evaluating country France
    evaluating country Georgia
    evaluating country Ghana
    evaluating country Grenada
    evaluating country Guinea
    evaluating country Haiti
    evaluating country Honduras
    evaluating country Hungary
    evaluating country India
    evaluating country Indonesia
    evaluating country Ireland
    evaluating country Italy
    evaluating country Japan
    evaluating country Kenya
    evaluating country South Korea
    evaluating country Liberia
    evaluating country Malaysia
    evaluating country Mexico
    evaluating country Morocco
    evaluating country Nepal
    evaluating country New Zealand
    evaluating country Norway
    evaluating country Pakistan
    evaluating country Peru
    evaluating country Qatar
    evaluating country Russia
    evaluating country Singapore
    evaluating country South Africa
    evaluating country Spain
    evaluating country Sweden
    evaluating country Switzerland
    evaluating country Thailand
    evaluating country United Arab Emirates
    evaluating country United Kingdom
    evaluating country United States
    evaluating country Uruguay
    evaluating country Venezuela
    evaluating country Vietnam
    evaluating country Zimbabwe


#### 5: Print out the entire list of the countries with their GDPs


```python
#Use a for loop to print the required list
for i in range(len(countries)):
    country = countries[i]
    country_gdp = gdp_data[i]
    print(f'{country} has a GDP of {country_gdp}')


```

    Algeria has a GDP of 2255.225482
    Angola has a GDP of 629.9553062
    Argentina has a GDP of 11601.63022
    Australia has a GDP of 25306.82494
    Austria has a GDP of 27266.40335
    Bahamas has a GDP of 19466.99052
    Bangladesh has a GDP of 588.3691778
    Belarus has a GDP of 2890.345675
    Belgium has a GDP of 24733.62696
    Bhutan has a GDP of 1445.760002
    Brazil has a GDP of 4803.398244
    Bulgaria has a GDP of 2618.876037
    Cambodia has a GDP of 590.4521124
    Cameroon has a GDP of 665.7982328
    Chile has a GDP of 7122.938458
    China has a GDP of 2639.54156
    Colombia has a GDP of 3362.4656
    Cyprus has a GDP of 15378.16704
    Denmark has a GDP of 30860.12808
    El Salvador has a GDP of 2579.115607
    Estonia has a GDP of 6525.541272
    Ethiopia has a GDP of 229.6769525
    Fiji has a GDP of 2242.689259
    Finland has a GDP of 27570.4852
    France has a GDP of 23016.84778
    Georgia has a GDP of 1334.646773
    Ghana has a GDP of 402.6953275
    Grenada has a GDP of 6047.200797
    Guinea has a GDP of 394.1156638
    Haiti has a GDP of 385.5793827
    Honduras has a GDP of 1414.072488
    Hungary has a GDP of 5745.981529
    India has a GDP of 837.7464011
    Indonesia has a GDP of 1206.991065
    Ireland has a GDP of 27715.52837
    Italy has a GDP of 18937.24998
    Japan has a GDP of 39578.07441
    Kenya has a GDP of 478.2194906
    South Korea has a GDP of 16684.21278
    Liberia has a GDP of 279.2204061
    Malaysia has a GDP of 5345.213415
    Mexico has a GDP of 6288.25324
    Morocco has a GDP of 1908.304416
    Nepal has a GDP of 274.8728621
    New Zealand has a GDP of 14646.42094
    Norway has a GDP of 40034.85063
    Pakistan has a GDP of 672.1547506
    Peru has a GDP of 3359.517402
    Qatar has a GDP of 36152.66676
    Russia has a GDP of 3054.727742
    Singapore has a GDP of 33529.83052
    South Africa has a GDP of 3825.093781
    Spain has a GDP of 15428.32098
    Sweden has a GDP of 33630.24604
    Switzerland has a GDP of 39170.41371
    Thailand has a GDP of 2699.123242
    United Arab Emirates has a GDP of 21058.43643
    United Kingdom has a GDP of 28272.40661
    United States has a GDP of 37691.02733
    Uruguay has a GDP of 9581.05659
    Venezuela has a GDP of 5671.912202
    Vietnam has a GDP of 757.4009286
    Zimbabwe has a GDP of 347.7456605


#### 6: Print the following:
1. Highest GPD value
2. Lowest GDP value
3. Mean GDP value
4. Standardized GDP value
5. Sum of all the GDPs


```python
print(f'The highest GDP value is {max_gdp_per_capita}')
print(f'The lowest GDP value is {min_gdp_per_capita}')
gdp_mean = np.mean(gdp_data)
print(f'The mean GDP value is {gdp_mean}')
print(f'The standardized GDP value is {gdp_data.std()}')
print(f'The sum of all GDP values is {gdp_data.sum()}')
```

    The highest GDP value is 45
    The lowest GDP value is 21
    The mean GDP value is 11289.409271639683
    The standardized GDP value is 12743.828910617945
    The sum of all GDP values is 711232.7841133



```python

```
